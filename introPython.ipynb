{
 "cells": [
  {
   "cell_type": "markdown",
   "metadata": {
    "tags": []
   },
   "source": [
    "### Today's Contents\n",
    "\n",
    "-   Introduction\n",
    "-   Data types\n",
    "-   Loops\n",
    "-   Conditional statements\n",
    "-   Functions\n",
    "-   NumPy\n",
    "-   Plotting using Matplotlib\n",
    "-   Pandas"
   ]
  },
  {
   "cell_type": "markdown",
   "metadata": {
    "id": "SqBslcSHpy4e"
   },
   "source": [
    "### Introduction\n",
    "\n",
    "*   Developed by Guido van Rossum\n",
    "*   first released in 1991\n",
    "*   simple to read (close to plain English)\n",
    "*   simple to code (intuitive)\n",
    "*   interpreted (no compilation)\n",
    "*   high-level (no machine code)\n",
    "*   general purpose language (can be used for anything)\n",
    "*   open source ([361,832 fellow developers and contributors in the community supporting 266,966 packages of Python](https://analyticsindiamag.com/top-10-python-packages-with-most-contributors-on-github/).)\n",
    "* source code available at: https://github.com/python/cpython\n",
    "\n"
   ]
  },
  {
   "cell_type": "markdown",
   "metadata": {
    "id": "nrFyFpva20MQ"
   },
   "source": [
    "**Sources**\n",
    "\n",
    "Many sources are available online, libraries documentations, online courses, books, websites offering free tutorials. \n",
    "\n",
    "The following are links for books that are freely available online:\n",
    "1. [Python Data Science Handbook, Jake VanderPlas, O'Reilly, First Edition 2016](https://tanthiamhuat.files.wordpress.com/2018/04/pythondatasciencehandbook.pdf)\n",
    "2. [Fluent Python, Luciano Ramalho, O'Reilly, First Edition 2015](http://index-of.es/Varios-2/Fluent%20Python%20Clear%20Concise%20and%20Effective%20Programming.pdf)"
   ]
  },
  {
   "cell_type": "markdown",
   "metadata": {
    "id": "HPqSe2Lf4P3G"
   },
   "source": [
    "**Installation**\n",
    "\n",
    "Easiest way to start working on Python is to downlaod the [Anaconda IDE](https://www.anaconda.com/products/individual).\n",
    "\n",
    "*   Spyder\n",
    "*   JupyterLab / Jupyter Notebook"
   ]
  },
  {
   "cell_type": "markdown",
   "metadata": {
    "id": "yqnOC3XQ8bh0"
   },
   "source": [
    "You are looking at Jupyter notebook right now."
   ]
  },
  {
   "cell_type": "markdown",
   "metadata": {
    "id": "NtUGOIGdqxAD"
   },
   "source": [
    "**Print > Hello World**"
   ]
  },
  {
   "cell_type": "code",
   "execution_count": null,
   "metadata": {
    "colab": {
     "base_uri": "https://localhost:8080/"
    },
    "id": "OwPBfvWnqu_m",
    "outputId": "279b3a6c-2930-46e8-8e34-d122e9d58ef3"
   },
   "outputs": [],
   "source": [
    "print('Hello World!!')"
   ]
  },
  {
   "cell_type": "markdown",
   "metadata": {
    "id": "59TCMqxe8xSt"
   },
   "source": [
    "**Python is case sensitive.**"
   ]
  },
  {
   "cell_type": "code",
   "execution_count": null,
   "metadata": {
    "colab": {
     "base_uri": "https://localhost:8080/",
     "height": 163
    },
    "id": "dMyousn4xxCQ",
    "outputId": "5fc484a9-ffe7-417d-ba13-312f6bf0ffb7"
   },
   "outputs": [],
   "source": [
    "Print('Hello World')"
   ]
  },
  {
   "cell_type": "code",
   "execution_count": null,
   "metadata": {
    "id": "YB4rdexIq445"
   },
   "outputs": [],
   "source": [
    "kiko = 6"
   ]
  },
  {
   "cell_type": "code",
   "execution_count": null,
   "metadata": {
    "colab": {
     "base_uri": "https://localhost:8080/"
    },
    "id": "-Le8hyxl865Q",
    "outputId": "43f13be1-4e25-49ae-bf91-3f4ced769816"
   },
   "outputs": [],
   "source": [
    " kiko # Kiko is not defined"
   ]
  },
  {
   "cell_type": "markdown",
   "metadata": {
    "id": "kynLbrbzGSrr"
   },
   "source": [
    "**Variables names**"
   ]
  },
  {
   "cell_type": "code",
   "execution_count": null,
   "metadata": {
    "colab": {
     "base_uri": "https://localhost:8080/",
     "height": 129
    },
    "id": "1uQG23WOrBxo",
    "outputId": "27aad952-c3fd-4f80-e60d-a9e29a32c495"
   },
   "outputs": [],
   "source": [
    "kiko@ = 6   # special characters in variables names"
   ]
  },
  {
   "cell_type": "code",
   "execution_count": null,
   "metadata": {
    "colab": {
     "base_uri": "https://localhost:8080/",
     "height": 129
    },
    "id": "A-AicXGsGWHI",
    "outputId": "c86e3195-2e09-4d0f-c6a0-838986018ccd"
   },
   "outputs": [],
   "source": [
    "and = 5+6    # invalid variable name - or, return, import, ..."
   ]
  },
  {
   "cell_type": "markdown",
   "metadata": {
    "id": "PDjvh0_hx9B0"
   },
   "source": [
    "### Data types\n",
    "\n",
    "*   Integer\n",
    "*   Float\n",
    "*   String\n",
    "*   Boolean\n",
    "*   List\n",
    "\n",
    "\n"
   ]
  },
  {
   "cell_type": "markdown",
   "metadata": {
    "id": "APBiyZqe2p3o"
   },
   "source": [
    "**Boolean**"
   ]
  },
  {
   "cell_type": "code",
   "execution_count": null,
   "metadata": {
    "colab": {
     "base_uri": "https://localhost:8080/",
     "height": 163
    },
    "id": "tw-IytJcrVJt",
    "outputId": "d86cfacf-8f88-4942-8a19-e89f25709c8e"
   },
   "outputs": [],
   "source": [
    "print(3>1)"
   ]
  },
  {
   "cell_type": "code",
   "execution_count": null,
   "metadata": {
    "colab": {
     "base_uri": "https://localhost:8080/"
    },
    "id": "76JuAdl2rZln",
    "outputId": "a7c21a1f-4d5c-4576-d2f6-e0aca18ab3d5"
   },
   "outputs": [],
   "source": [
    "print(1 == 3)"
   ]
  },
  {
   "cell_type": "code",
   "execution_count": null,
   "metadata": {
    "id": "lrPCX4u5rcby"
   },
   "outputs": [],
   "source": [
    "z = True"
   ]
  },
  {
   "cell_type": "code",
   "execution_count": null,
   "metadata": {
    "colab": {
     "base_uri": "https://localhost:8080/"
    },
    "id": "TAglWYecriG4",
    "outputId": "f4470d56-bb8c-46de-eecd-2a02ab7372ec"
   },
   "outputs": [],
   "source": [
    "type(z)"
   ]
  },
  {
   "cell_type": "code",
   "execution_count": null,
   "metadata": {
    "colab": {
     "base_uri": "https://localhost:8080/"
    },
    "id": "I4fscz3srjQn",
    "outputId": "6763d339-bd7d-4f92-b111-1dc4fd9aad10"
   },
   "outputs": [],
   "source": [
    "if z == False:\n",
    "  print(\"z is False\")\n",
    "else: \n",
    "  print(\"z is True\")"
   ]
  },
  {
   "cell_type": "code",
   "execution_count": null,
   "metadata": {
    "id": "_cR5YAc3rsY0"
   },
   "outputs": [],
   "source": [
    "g = 3>2"
   ]
  },
  {
   "cell_type": "code",
   "execution_count": null,
   "metadata": {
    "colab": {
     "base_uri": "https://localhost:8080/"
    },
    "id": "1hCK534Xrw7B",
    "outputId": "70e65a09-b5ce-453e-8374-e2c45639edfe"
   },
   "outputs": [],
   "source": [
    "g"
   ]
  },
  {
   "cell_type": "code",
   "execution_count": null,
   "metadata": {
    "colab": {
     "base_uri": "https://localhost:8080/"
    },
    "id": "8iio1LWyrxqC",
    "outputId": "bd782d9c-2e7d-4288-8d79-2813e6afe8a9",
    "tags": []
   },
   "outputs": [],
   "source": [
    "type(g)"
   ]
  },
  {
   "cell_type": "markdown",
   "metadata": {
    "id": "xEBjYrPy99Mq"
   },
   "source": [
    "**Integers**"
   ]
  },
  {
   "cell_type": "code",
   "execution_count": null,
   "metadata": {
    "id": "DEuuQ30Mrk0M"
   },
   "outputs": [],
   "source": [
    "x = 3"
   ]
  },
  {
   "cell_type": "code",
   "execution_count": null,
   "metadata": {
    "colab": {
     "base_uri": "https://localhost:8080/"
    },
    "id": "TeD808CLrmA_",
    "outputId": "50bd6662-1096-49cf-868f-cbb6e1f71276"
   },
   "outputs": [],
   "source": [
    "x**2"
   ]
  },
  {
   "cell_type": "code",
   "execution_count": null,
   "metadata": {
    "colab": {
     "base_uri": "https://localhost:8080/"
    },
    "id": "Dgaw2Rm9roCF",
    "outputId": "b173f274-9176-42a6-8904-52e576fcec31"
   },
   "outputs": [],
   "source": [
    "type(x)"
   ]
  },
  {
   "cell_type": "markdown",
   "metadata": {
    "id": "IFPBoLgd-NgO"
   },
   "source": [
    "**Float**"
   ]
  },
  {
   "cell_type": "code",
   "execution_count": null,
   "metadata": {
    "id": "xj9Is0WSrpWh"
   },
   "outputs": [],
   "source": [
    "xf = 3.3"
   ]
  },
  {
   "cell_type": "code",
   "execution_count": null,
   "metadata": {
    "colab": {
     "base_uri": "https://localhost:8080/"
    },
    "id": "qnUWLLExrrHl",
    "outputId": "032a5f99-a80a-4198-89d5-575b430cb15c"
   },
   "outputs": [],
   "source": [
    "type(xf)"
   ]
  },
  {
   "cell_type": "markdown",
   "metadata": {
    "id": "OWBvgUfq-gSm"
   },
   "source": [
    "**String**"
   ]
  },
  {
   "cell_type": "code",
   "execution_count": null,
   "metadata": {
    "id": "I67zsKII-YaO"
   },
   "outputs": [],
   "source": [
    "myName = \"Mohamed Labib\""
   ]
  },
  {
   "cell_type": "code",
   "execution_count": null,
   "metadata": {},
   "outputs": [],
   "source": [
    "type(myName)"
   ]
  },
  {
   "cell_type": "markdown",
   "metadata": {
    "id": "6hs_-Dtc-pGJ"
   },
   "source": [
    "**Printing different variables**"
   ]
  },
  {
   "cell_type": "code",
   "execution_count": null,
   "metadata": {
    "colab": {
     "base_uri": "https://localhost:8080/"
    },
    "id": "P3OlbLmds-Wv",
    "outputId": "ed0fc8eb-dd46-4eea-871a-8d789862f240"
   },
   "outputs": [],
   "source": [
    "print('x is equal to {}' .format(x,2))    # repeat with float, show rounding"
   ]
  },
  {
   "cell_type": "code",
   "execution_count": null,
   "metadata": {
    "id": "Jhm9pKayvmY5",
    "tags": []
   },
   "outputs": [],
   "source": [
    "x = 89.9562\n",
    "x"
   ]
  },
  {
   "cell_type": "markdown",
   "metadata": {},
   "source": [
    "**Converting variables types**"
   ]
  },
  {
   "cell_type": "code",
   "execution_count": null,
   "metadata": {
    "id": "pPM2ZjT5vpmc"
   },
   "outputs": [],
   "source": [
    "n = str(x)"
   ]
  },
  {
   "cell_type": "code",
   "execution_count": null,
   "metadata": {
    "colab": {
     "base_uri": "https://localhost:8080/",
     "height": 35
    },
    "id": "hTupDt32w2wL",
    "outputId": "91013188-e9b3-475a-b60d-3cdc9dc321f2"
   },
   "outputs": [],
   "source": [
    "n"
   ]
  },
  {
   "cell_type": "code",
   "execution_count": null,
   "metadata": {
    "colab": {
     "base_uri": "https://localhost:8080/"
    },
    "id": "jAMhmEzcw3pi",
    "outputId": "ee16b891-6a71-4f36-89bd-d4e08347ca68"
   },
   "outputs": [],
   "source": [
    "print('x is equal to', n)"
   ]
  },
  {
   "cell_type": "code",
   "execution_count": null,
   "metadata": {
    "id": "mi61daOMw_M4"
   },
   "outputs": [],
   "source": [
    "y = float(n)"
   ]
  },
  {
   "cell_type": "code",
   "execution_count": null,
   "metadata": {
    "colab": {
     "base_uri": "https://localhost:8080/"
    },
    "id": "tANJ4ZXDxN2x",
    "outputId": "bf1d7075-2172-45fa-9325-5863d8addc9b"
   },
   "outputs": [],
   "source": [
    "type(y)"
   ]
  },
  {
   "cell_type": "code",
   "execution_count": null,
   "metadata": {
    "colab": {
     "base_uri": "https://localhost:8080/"
    },
    "id": "4KTlfpqVxUlg",
    "outputId": "ec429344-b4ca-45bb-9401-48ef8ecb6c48"
   },
   "outputs": [],
   "source": [
    "type(n)    # n remains as string"
   ]
  },
  {
   "cell_type": "code",
   "execution_count": null,
   "metadata": {
    "id": "UPqYCRBVxWRk"
   },
   "outputs": [],
   "source": [
    "x = int(y)"
   ]
  },
  {
   "cell_type": "code",
   "execution_count": null,
   "metadata": {
    "colab": {
     "base_uri": "https://localhost:8080/"
    },
    "id": "RjxZ8og2xY4F",
    "outputId": "9d81ceae-ae9d-457c-fd61-d8e72d938811"
   },
   "outputs": [],
   "source": [
    "type(x)"
   ]
  },
  {
   "cell_type": "code",
   "execution_count": null,
   "metadata": {},
   "outputs": [],
   "source": [
    "x   # no rounding"
   ]
  },
  {
   "cell_type": "markdown",
   "metadata": {},
   "source": [
    "**List**"
   ]
  },
  {
   "cell_type": "code",
   "execution_count": null,
   "metadata": {
    "id": "i3vbsBIdOfqW"
   },
   "outputs": [],
   "source": [
    "a = [1.13, 'hello', 56, 'r']    # a list can contain values of different data types"
   ]
  },
  {
   "cell_type": "code",
   "execution_count": null,
   "metadata": {
    "colab": {
     "base_uri": "https://localhost:8080/"
    },
    "id": "ZD3dIGHLOnVa",
    "outputId": "f67964c0-3d00-469e-e3f0-41bd1b6bce02"
   },
   "outputs": [],
   "source": [
    "a[0:3]    # indexing and slicing"
   ]
  },
  {
   "cell_type": "markdown",
   "metadata": {
    "id": "gYVAEkOQPU6V"
   },
   "source": [
    "Different functions and applications can be used using lists. List is one of Python's four collection data types (others are [Tuple](https://www.w3schools.com/python/python_tuples.asp), [Set](https://www.w3schools.com/python/python_sets.asp) and [Dictionary](https://www.w3schools.com/python/python_dictionaries.asp)). We recommend you check the provided links if you are interested to learn about these data types."
   ]
  },
  {
   "cell_type": "markdown",
   "metadata": {
    "id": "VffsBwQVR7Er"
   },
   "source": [
    "**Arithmetic operations**"
   ]
  },
  {
   "cell_type": "code",
   "execution_count": null,
   "metadata": {
    "id": "OWdfSd3wxbJi"
   },
   "outputs": [],
   "source": [
    "o = 5*5    # for multiplication use *\n",
    "o"
   ]
  },
  {
   "cell_type": "code",
   "execution_count": null,
   "metadata": {
    "colab": {
     "base_uri": "https://localhost:8080/"
    },
    "id": "yRxHLs7u3njM",
    "outputId": "5e571861-a212-418c-9b68-380ff4c34bd7"
   },
   "outputs": [],
   "source": [
    "o = 3/4   # for division: /\n",
    "o"
   ]
  },
  {
   "cell_type": "code",
   "execution_count": null,
   "metadata": {
    "id": "Xf5AZAJp3xLm"
   },
   "outputs": [],
   "source": [
    "o = 3%4    # for remainder use %\n",
    "o"
   ]
  },
  {
   "cell_type": "code",
   "execution_count": null,
   "metadata": {
    "colab": {
     "base_uri": "https://localhost:8080/"
    },
    "id": "aiXSrog437sh",
    "outputId": "e1f82c08-870d-45eb-d2ff-60d89494cc7b"
   },
   "outputs": [],
   "source": [
    "o**3    # for power use **"
   ]
  },
  {
   "cell_type": "markdown",
   "metadata": {},
   "source": [
    "Special mathematical functions (```sin```, ```cos```, ```sqrt```, ..) can be used from the ```math``` library."
   ]
  },
  {
   "cell_type": "markdown",
   "metadata": {
    "id": "X5bSJNSw_JlU"
   },
   "source": [
    "\n",
    "**```for``` and ```while``` loops**\n",
    "\n"
   ]
  },
  {
   "cell_type": "code",
   "execution_count": null,
   "metadata": {
    "colab": {
     "base_uri": "https://localhost:8080/",
     "height": 214
    },
    "id": "VtWsZBPwgAFD",
    "outputId": "2188a4aa-200b-42ef-f804-338f8d7ca0ea"
   },
   "outputs": [],
   "source": [
    "i = 0\n",
    "while i <= 5:\n",
    "    p = i + 2    # do something\n",
    "    print(p)\n",
    "    i += 1       # increment i by 1 (Avoid infinte loops!)"
   ]
  },
  {
   "cell_type": "code",
   "execution_count": null,
   "metadata": {},
   "outputs": [],
   "source": [
    "for i in myName: \n",
    "    print(i)"
   ]
  },
  {
   "cell_type": "code",
   "execution_count": null,
   "metadata": {
    "colab": {
     "base_uri": "https://localhost:8080/",
     "height": 180
    },
    "id": "eZr9rxUQ38XR",
    "outputId": "bb37b66a-5f80-4a8c-ef30-aa3790ebae8d"
   },
   "outputs": [],
   "source": [
    "for i in 'Ahmad657':    # applicable on the string directly\n",
    "    print(i)"
   ]
  },
  {
   "cell_type": "code",
   "execution_count": null,
   "metadata": {},
   "outputs": [],
   "source": [
    "myName[0:4]    # indexing and slicing "
   ]
  },
  {
   "cell_type": "code",
   "execution_count": null,
   "metadata": {
    "colab": {
     "base_uri": "https://localhost:8080/"
    },
    "id": "iZfXLOpA4xVp",
    "outputId": "51dbb483-b36f-4eb1-a4e1-2e3a3ff9c4f8"
   },
   "outputs": [],
   "source": [
    "for i in range(3,9):    # from first to second argument excluding the second argument\n",
    "    print(i)"
   ]
  },
  {
   "cell_type": "code",
   "execution_count": null,
   "metadata": {
    "colab": {
     "base_uri": "https://localhost:8080/"
    },
    "id": "F4DFRmSc6zID",
    "outputId": "84442090-96d8-42b4-a3bf-49b5c6c95f78"
   },
   "outputs": [],
   "source": [
    "for i in range(3):    # default start from 0\n",
    "    for j in range(4):\n",
    "        print(j)"
   ]
  },
  {
   "cell_type": "markdown",
   "metadata": {
    "id": "eHp-jJPx7YKc"
   },
   "source": [
    "**Exercise 1**\n",
    "\n",
    "Write a code to produce the following result."
   ]
  },
  {
   "cell_type": "code",
   "execution_count": null,
   "metadata": {
    "colab": {
     "base_uri": "https://localhost:8080/"
    },
    "id": "fui0BGlk4-XS",
    "outputId": "c68351a2-eb38-4e58-b0ee-36006a68b80d"
   },
   "outputs": [],
   "source": []
  },
  {
   "cell_type": "markdown",
   "metadata": {},
   "source": [
    "1 x 0 = 0\n",
    "<br>\n",
    "1 x 1 = 1\n",
    "<br>\n",
    "1 x 2 = 2\n",
    "<br>\n",
    "1 x 3 = 3\n",
    "<br>\n",
    "1 x 4 = 4\n",
    "<br>\n",
    "2 x 0 = 0\n",
    "<br>\n",
    "2 x 1 = 2\n",
    "<br>\n",
    "2 x 2 = 4\n",
    "<br>\n",
    "2 x 3 = 6\n",
    "<br>\n",
    "2 x 4 = 8\n",
    "<br>\n",
    "3 x 0 = 0\n",
    "<br>\n",
    "3 x 1 = 3\n",
    "<br>\n",
    "3 x 2 = 6\n",
    "<br>\n",
    "3 x 3 = 9\n",
    "<br>\n",
    "3 x 4 = 12\n",
    "<br>\n",
    "4 x 0 = 0\n",
    "<br>\n",
    "4 x 1 = 4\n",
    "<br>\n",
    "4 x 2 = 8\n",
    "<br>\n",
    "4 x 3 = 12\n",
    "<br>\n",
    "4 x 4 = 16\n",
    "<br>\n",
    "5 x 0 = 0\n",
    "<br>\n",
    "5 x 1 = 5\n",
    "<br>\n",
    "5 x 2 = 10\n",
    "<br>\n",
    "5 x 3 = 15\n",
    "<br>\n",
    "5 x 4 = 20"
   ]
  },
  {
   "cell_type": "markdown",
   "metadata": {
    "id": "lDpL9I_t8NUJ"
   },
   "source": [
    "**Input from user**"
   ]
  },
  {
   "cell_type": "code",
   "execution_count": null,
   "metadata": {
    "colab": {
     "base_uri": "https://localhost:8080/"
    },
    "id": "205sWNll5P3V",
    "outputId": "026d2d89-7a19-470f-e896-49673f5535b6"
   },
   "outputs": [],
   "source": [
    "mynum = input('Enter a number: ') "
   ]
  },
  {
   "cell_type": "code",
   "execution_count": null,
   "metadata": {
    "colab": {
     "base_uri": "https://localhost:8080/",
     "height": 35
    },
    "id": "yhs_BT4l79zL",
    "outputId": "643b6c3e-8b80-4e40-e1da-224e149c4998"
   },
   "outputs": [],
   "source": [
    "mynum"
   ]
  },
  {
   "cell_type": "code",
   "execution_count": null,
   "metadata": {
    "colab": {
     "base_uri": "https://localhost:8080/"
    },
    "id": "xKge1GU88AFM",
    "outputId": "188dd477-5a06-43db-984a-c15dda073f89"
   },
   "outputs": [],
   "source": [
    "type(mynum)   # conversion needed depending on usage in code"
   ]
  },
  {
   "cell_type": "markdown",
   "metadata": {
    "id": "f9FdMEzP8S1i"
   },
   "source": [
    "### Conditional statements: ```if```, ```elif``` and ```else```"
   ]
  },
  {
   "cell_type": "code",
   "execution_count": null,
   "metadata": {
    "colab": {
     "base_uri": "https://localhost:8080/"
    },
    "id": "8VQy8xYu8CKd",
    "outputId": "20f9a4f7-7e5f-4525-c8d0-2d5d19313acb"
   },
   "outputs": [],
   "source": [
    "if 'M' in \"Mango\":\n",
    "    print('M in mango')\n",
    "else:\n",
    "    print('no Ps')"
   ]
  },
  {
   "cell_type": "code",
   "execution_count": null,
   "metadata": {
    "id": "mRiIxg5O9Akw"
   },
   "outputs": [],
   "source": [
    "x = 13\n",
    "y = 15"
   ]
  },
  {
   "cell_type": "code",
   "execution_count": null,
   "metadata": {
    "colab": {
     "base_uri": "https://localhost:8080/"
    },
    "id": "4rSqQ-z_8jJZ",
    "outputId": "4a4dffbf-ca93-4950-8d4c-4e1baeb5434f"
   },
   "outputs": [],
   "source": [
    "if x > y:\n",
    "    print('x > y')\n",
    "elif x == y:\n",
    "    print('x = y')\n",
    "else:\n",
    "    print('x < y')"
   ]
  },
  {
   "cell_type": "code",
   "execution_count": null,
   "metadata": {
    "colab": {
     "base_uri": "https://localhost:8080/"
    },
    "id": "0FJRM4AlACZp",
    "outputId": "e5653177-4488-47fc-bf1d-a7f55fdb64b7"
   },
   "outputs": [],
   "source": [
    "if x >= y:    \n",
    "    print('x >= y')\n",
    "elif x <= y:     # incorrect - if equal then will be executed at first line\n",
    "    print('x <= y')\n",
    "else:\n",
    "    print('Error')"
   ]
  },
  {
   "cell_type": "code",
   "execution_count": null,
   "metadata": {
    "id": "QXu5EsmzCN4q"
   },
   "outputs": [],
   "source": [
    "z = 5"
   ]
  },
  {
   "cell_type": "code",
   "execution_count": null,
   "metadata": {
    "colab": {
     "base_uri": "https://localhost:8080/"
    },
    "id": "3YmwHJCKBfiC",
    "outputId": "50fb1e3e-14b1-4743-840d-2bd1b09804be"
   },
   "outputs": [],
   "source": [
    "if (x > y or x < y) and (x > z):      # remove ```and (x > z) for or operation alone\n",
    "    print(\"x and y are not equal and x is larger than z\")\n",
    "else:\n",
    "    print(\"x and y are equal\")"
   ]
  },
  {
   "cell_type": "markdown",
   "metadata": {
    "id": "JCh_-0Tp9bsu"
   },
   "source": [
    "**Exercise 2**\n",
    "\n",
    "Build a calculator that takes 2 integers from the user and a mathematical sign (+, -, *, /), then does the operation. Print an error message for division by zero."
   ]
  },
  {
   "cell_type": "code",
   "execution_count": null,
   "metadata": {
    "colab": {
     "base_uri": "https://localhost:8080/"
    },
    "id": "s1DlCkIS8-jE",
    "outputId": "2de402bb-9c4e-469e-fc49-ae91ebf4007b"
   },
   "outputs": [],
   "source": []
  },
  {
   "cell_type": "markdown",
   "metadata": {
    "id": "8F4z1bpshVMh"
   },
   "source": [
    "### Functions"
   ]
  },
  {
   "cell_type": "code",
   "execution_count": null,
   "metadata": {
    "colab": {
     "base_uri": "https://localhost:8080/"
    },
    "id": "aGk55q-Y--LU",
    "outputId": "0fbca730-8470-46ae-d9b1-277bf6e0253d"
   },
   "outputs": [],
   "source": [
    "x = 5\n",
    "y = 6\n",
    "z = x + y\n",
    "z"
   ]
  },
  {
   "cell_type": "code",
   "execution_count": null,
   "metadata": {
    "id": "r8gXpxkgDL48"
   },
   "outputs": [],
   "source": [
    "def addsum(x, y): # can add more input arguments\n",
    "    return x + y   # can add more returns"
   ]
  },
  {
   "cell_type": "code",
   "execution_count": null,
   "metadata": {
    "colab": {
     "base_uri": "https://localhost:8080/"
    },
    "id": "r1nACogyDdZW",
    "outputId": "507e1185-5acc-460f-fcad-40431319db06"
   },
   "outputs": [],
   "source": [
    "z, d = addsum(5,6)    # assign the return value to a varibale z, another way: addsum(x=5, y=6)\n",
    "# print('d= ', d)       # can be printed directly from the function too\n",
    "print('z = ', z) "
   ]
  },
  {
   "cell_type": "markdown",
   "metadata": {
    "id": "5zPj15TKFDIf"
   },
   "source": [
    "**Exercise 3**\n",
    "\n",
    "Repeat the last calculator exercise using a function that takes as arguments the three inputs. Try by calling the function. No user input."
   ]
  },
  {
   "cell_type": "code",
   "execution_count": null,
   "metadata": {
    "id": "zjvi6zhlEjJI"
   },
   "outputs": [],
   "source": []
  },
  {
   "cell_type": "markdown",
   "metadata": {
    "id": "YyjOjrsOlKNl"
   },
   "source": [
    "**Exercise 4**\n",
    "\n",
    "Write a function that takes two numbers as input, and return the values of the sum, difference, multiplication and division of both numbers. Assign the return values to four different variables when calling the function."
   ]
  },
  {
   "cell_type": "code",
   "execution_count": null,
   "metadata": {},
   "outputs": [],
   "source": []
  },
  {
   "cell_type": "markdown",
   "metadata": {},
   "source": [
    "### NumPy"
   ]
  },
  {
   "cell_type": "markdown",
   "metadata": {},
   "source": [
    "NumPy is a Python library, used for working with numerical arrays."
   ]
  },
  {
   "cell_type": "code",
   "execution_count": null,
   "metadata": {},
   "outputs": [],
   "source": [
    "import numpy as np"
   ]
  },
  {
   "cell_type": "code",
   "execution_count": null,
   "metadata": {},
   "outputs": [],
   "source": [
    "d1 = np.arange(1,10,1)    # creates a 1-d array with values from 1 to 9 with a step of 1\n",
    "                          # can be for floats as well, try a less step\n",
    "d1"
   ]
  },
  {
   "cell_type": "code",
   "execution_count": null,
   "metadata": {},
   "outputs": [],
   "source": [
    "type(d1)"
   ]
  },
  {
   "cell_type": "markdown",
   "metadata": {},
   "source": [
    "ndarray > n-dimensional array. ```d1``` is a 1-dimensional array."
   ]
  },
  {
   "cell_type": "code",
   "execution_count": null,
   "metadata": {},
   "outputs": [],
   "source": [
    "len(d1)    # provides the length of the array"
   ]
  },
  {
   "cell_type": "code",
   "execution_count": null,
   "metadata": {},
   "outputs": [],
   "source": [
    "np.shape(d1)    # provides the shape of the array"
   ]
  },
  {
   "cell_type": "markdown",
   "metadata": {},
   "source": [
    "**Exercise 5**\n",
    "\n",
    "Create a for loop to print all the values in ```d1```."
   ]
  },
  {
   "cell_type": "code",
   "execution_count": null,
   "metadata": {},
   "outputs": [],
   "source": []
  },
  {
   "cell_type": "code",
   "execution_count": null,
   "metadata": {},
   "outputs": [],
   "source": [
    "v = np.linspace(1,10,10)   # creates a 1-d array, with a range from 1 to 10, equally spaced values, with length 10\n",
    "v"
   ]
  },
  {
   "cell_type": "code",
   "execution_count": null,
   "metadata": {},
   "outputs": [],
   "source": [
    "len(v)"
   ]
  },
  {
   "cell_type": "code",
   "execution_count": null,
   "metadata": {},
   "outputs": [],
   "source": [
    "type(v)"
   ]
  },
  {
   "cell_type": "code",
   "execution_count": null,
   "metadata": {},
   "outputs": [],
   "source": [
    "vreshape = np.reshape(v,(2,5))    # creates a 2-d matrix 'vreshape' with same values of v but arranged in 2 rows and 5 columns\n",
    "vreshape"
   ]
  },
  {
   "cell_type": "code",
   "execution_count": null,
   "metadata": {},
   "outputs": [],
   "source": [
    "vnew = np.array([                 # creates a 2-d matrix with the given values\n",
    "    [1,2,3],\n",
    "    [9,-8,7],\n",
    "    [5,1,6]\n",
    "])\n",
    "vnew"
   ]
  },
  {
   "cell_type": "code",
   "execution_count": null,
   "metadata": {},
   "outputs": [],
   "source": [
    "np.shape(vnew)"
   ]
  },
  {
   "cell_type": "markdown",
   "metadata": {},
   "source": [
    "**Indexing and slicing**"
   ]
  },
  {
   "cell_type": "code",
   "execution_count": null,
   "metadata": {},
   "outputs": [],
   "source": [
    "vnew[2,2]   "
   ]
  },
  {
   "cell_type": "markdown",
   "metadata": {},
   "source": [
    "**Mathematical functions**"
   ]
  },
  {
   "cell_type": "code",
   "execution_count": null,
   "metadata": {},
   "outputs": [],
   "source": [
    "np.mean(vnew)   # returns vnew's mean value"
   ]
  },
  {
   "cell_type": "code",
   "execution_count": null,
   "metadata": {},
   "outputs": [],
   "source": [
    "np.sum(vnew)    # returns vnew's sum value"
   ]
  },
  {
   "cell_type": "code",
   "execution_count": null,
   "metadata": {},
   "outputs": [],
   "source": [
    "np.max(vnew)    # returns vnew's max value"
   ]
  },
  {
   "cell_type": "code",
   "execution_count": null,
   "metadata": {},
   "outputs": [],
   "source": [
    "np.argmax(vnew)    # returns vnew's index of max value"
   ]
  },
  {
   "cell_type": "code",
   "execution_count": null,
   "metadata": {},
   "outputs": [],
   "source": [
    "xzero = np.zeros([4,3])\n",
    "# xzero[2,2]=3    # assign values to definite locations\n",
    "xzero"
   ]
  },
  {
   "cell_type": "code",
   "execution_count": null,
   "metadata": {},
   "outputs": [],
   "source": [
    "xone = np.ones([4,3])\n",
    "# xone[1,2]=5     \n",
    "xone"
   ]
  },
  {
   "cell_type": "code",
   "execution_count": null,
   "metadata": {},
   "outputs": [],
   "source": [
    "xzo = xzero + xone    # element-wise operation\n",
    "xzo"
   ]
  },
  {
   "cell_type": "markdown",
   "metadata": {},
   "source": [
    "**Note:** Cross and dot products are available through ```numpy.dot()``` and ```numpy.cross()``` functions."
   ]
  },
  {
   "cell_type": "code",
   "execution_count": null,
   "metadata": {},
   "outputs": [],
   "source": [
    "xzo"
   ]
  },
  {
   "cell_type": "code",
   "execution_count": null,
   "metadata": {},
   "outputs": [],
   "source": [
    "xzo[1:3,1] = 5"
   ]
  },
  {
   "cell_type": "code",
   "execution_count": null,
   "metadata": {},
   "outputs": [],
   "source": [
    "xzo"
   ]
  },
  {
   "cell_type": "code",
   "execution_count": null,
   "metadata": {},
   "outputs": [],
   "source": [
    "len(xzo)    # returns the number of rows or np.shape(xzo)[0]"
   ]
  },
  {
   "cell_type": "code",
   "execution_count": null,
   "metadata": {},
   "outputs": [],
   "source": [
    "np.shape(xzo)[1]    # returns the number of columns"
   ]
  },
  {
   "cell_type": "code",
   "execution_count": null,
   "metadata": {},
   "outputs": [],
   "source": [
    "# create random array:\n",
    "a = np.random.randint(-10,10,(3,4))\n",
    "print(a)"
   ]
  },
  {
   "cell_type": "markdown",
   "metadata": {},
   "source": [
    "For more on `numpy.random()` check the available [documentation](https://numpy.org/doc/1.16/reference/routines.random.html)."
   ]
  },
  {
   "cell_type": "markdown",
   "metadata": {},
   "source": [
    "**Exercise 6**\n",
    "\n",
    "Calculate the dot product (manually using for loops) of matrices A and B and store them in a matrix `C`. \n",
    "\n",
    "\\begin{equation*}\n",
    "A = \n",
    "\\begin{pmatrix}\n",
    "1 & 2 \\\\\n",
    "4 & 5\n",
    "\\end{pmatrix}\n",
    "\\end{equation*}\n",
    "       \n",
    "\\begin{equation*}\n",
    "B = \n",
    "\\begin{pmatrix}\n",
    "9 & 8 \\\\\n",
    "6 & 5 \n",
    "\\end{pmatrix}\n",
    "\\end{equation*}"
   ]
  },
  {
   "cell_type": "code",
   "execution_count": null,
   "metadata": {},
   "outputs": [],
   "source": []
  },
  {
   "cell_type": "markdown",
   "metadata": {},
   "source": [
    "**Plotting using Matplotlib**"
   ]
  },
  {
   "cell_type": "code",
   "execution_count": null,
   "metadata": {},
   "outputs": [],
   "source": [
    "xplt = np.linspace(-np.pi,np.pi,30)    # an array values from -pi to pi, length = 30"
   ]
  },
  {
   "cell_type": "code",
   "execution_count": null,
   "metadata": {},
   "outputs": [],
   "source": [
    "yplt = xplt**2\n",
    "yplt_sc = yplt + np.random.normal(-0.3, 0.3, 30)"
   ]
  },
  {
   "cell_type": "code",
   "execution_count": null,
   "metadata": {},
   "outputs": [],
   "source": [
    "import matplotlib.pyplot as plt"
   ]
  },
  {
   "cell_type": "code",
   "execution_count": null,
   "metadata": {},
   "outputs": [],
   "source": [
    "# %matplotlib widget"
   ]
  },
  {
   "cell_type": "code",
   "execution_count": null,
   "metadata": {},
   "outputs": [],
   "source": [
    "plt.plot(xplt,yplt_sc,'o', xplt, yplt, '-')\n",
    "plt.xlabel('x')\n",
    "plt.ylabel('y')\n",
    "plt.title('Relation of x and y')\n",
    "plt.legend(['Data points', 'Model'], loc='best')\n",
    "plt.show()"
   ]
  },
  {
   "cell_type": "markdown",
   "metadata": {},
   "source": [
    "**Another way - Object oriented**"
   ]
  },
  {
   "cell_type": "code",
   "execution_count": null,
   "metadata": {},
   "outputs": [],
   "source": [
    "fig, ax = plt.subplots()\n",
    "ax.plot(xplt, yplt_sc,'o', xplt, yplt, '-')\n",
    "ax.set(xlabel='xplt', ylabel='yplt', title = 'Relation of x and y')\n",
    "ax.legend(['Data points', 'Model'], loc='best')\n",
    "plt.show()"
   ]
  },
  {
   "cell_type": "markdown",
   "metadata": {},
   "source": [
    "**Subplots**"
   ]
  },
  {
   "cell_type": "code",
   "execution_count": null,
   "metadata": {},
   "outputs": [],
   "source": [
    "# display 4 plots in one figure\n",
    "fig, axs = plt.subplots(nrows=2, ncols=2, figsize=(16,10))          # specifies the number of rows and columns, and figure size\n",
    "axs[0,0].plot(xplt, xplt**2)                                        # specifies to plot in row 0 column 0\n",
    "axs[0,0].set(xlabel='x', ylabel='$f(x)$', title = '$f(x) = x^2$')\n",
    "axs[0,1].plot(xplt, np.sin(xplt))\n",
    "axs[0,1].set(xlabel='x', ylabel='$f(x)$', title = '$f(x) = sin(x)$')\n",
    "axs[1,0].plot(xplt, np.cos(xplt))\n",
    "axs[1,0].set(xlabel='x', ylabel='$f(x)$', title = '$f(x) = cos(x)$')\n",
    "axs[1,1].plot(xplt, np.tan(xplt))\n",
    "axs[1,1].set(xlabel='x', ylabel='$f(x)$', title = '$f(x) = tan(x)$')\n",
    "plt.show()"
   ]
  },
  {
   "cell_type": "markdown",
   "metadata": {},
   "source": [
    "**Note:** check different types of plots available in `matplotlib` library's [Gallery page](https://matplotlib.org/stable/gallery/index.html)."
   ]
  },
  {
   "cell_type": "markdown",
   "metadata": {},
   "source": [
    "### Pandas"
   ]
  },
  {
   "cell_type": "markdown",
   "metadata": {},
   "source": [
    "Pandas is essential for dealing with data. It is built on top of NumPy. Available data structures are the Series and DataFrame. A series is a 1 dimensional array of data (can hold different data types) with an index. "
   ]
  },
  {
   "cell_type": "code",
   "execution_count": null,
   "metadata": {},
   "outputs": [],
   "source": [
    "import pandas as pd"
   ]
  },
  {
   "cell_type": "markdown",
   "metadata": {},
   "source": [
    "**Series**"
   ]
  },
  {
   "cell_type": "code",
   "execution_count": null,
   "metadata": {},
   "outputs": [],
   "source": [
    "a = pd.Series([0.3,11.1,4.3,'43.2',5,20.2])     #can hold different data types in one series\n",
    "a"
   ]
  },
  {
   "cell_type": "code",
   "execution_count": null,
   "metadata": {},
   "outputs": [],
   "source": [
    "type(a)   # check type of a "
   ]
  },
  {
   "cell_type": "code",
   "execution_count": null,
   "metadata": {},
   "outputs": [],
   "source": [
    "type(a[3])    # check type of any value in a using its index"
   ]
  },
  {
   "cell_type": "code",
   "execution_count": null,
   "metadata": {},
   "outputs": [],
   "source": [
    "a[1:3]    # slicing "
   ]
  },
  {
   "cell_type": "markdown",
   "metadata": {},
   "source": [
    "**DataFrame**"
   ]
  },
  {
   "cell_type": "markdown",
   "metadata": {},
   "source": [
    "A DataFrame is a multi-dimensional array of different data types. "
   ]
  },
  {
   "cell_type": "code",
   "execution_count": null,
   "metadata": {},
   "outputs": [],
   "source": [
    "df = pd.DataFrame(np.random.randint(-10,10,[4,4]), columns = ['A', 'B', 'C', 'D'])"
   ]
  },
  {
   "cell_type": "code",
   "execution_count": null,
   "metadata": {},
   "outputs": [],
   "source": [
    "df"
   ]
  },
  {
   "cell_type": "code",
   "execution_count": null,
   "metadata": {},
   "outputs": [],
   "source": [
    "df['E'] = np.random.randint(-10,10,[4,1])   # add column E"
   ]
  },
  {
   "cell_type": "code",
   "execution_count": null,
   "metadata": {},
   "outputs": [],
   "source": [
    "df"
   ]
  },
  {
   "cell_type": "code",
   "execution_count": null,
   "metadata": {},
   "outputs": [],
   "source": [
    "# add new row\n",
    "df1 = pd.DataFrame(np.random.randint(-10,10,[1,5]), columns = ['A', 'B', 'C', 'D', 'E'])"
   ]
  },
  {
   "cell_type": "code",
   "execution_count": null,
   "metadata": {},
   "outputs": [],
   "source": [
    "df = df.append(df1, ignore_index = True)    # adds a new row to df"
   ]
  },
  {
   "cell_type": "code",
   "execution_count": null,
   "metadata": {},
   "outputs": [],
   "source": [
    "df"
   ]
  },
  {
   "cell_type": "markdown",
   "metadata": {},
   "source": [
    "**Indexing and Slicing**"
   ]
  },
  {
   "cell_type": "code",
   "execution_count": null,
   "metadata": {},
   "outputs": [],
   "source": [
    "df[['A','C']]    # call by column names"
   ]
  },
  {
   "cell_type": "code",
   "execution_count": null,
   "metadata": {},
   "outputs": [],
   "source": [
    "df.iloc[3,2]    # value in row 3 and column 4"
   ]
  },
  {
   "cell_type": "code",
   "execution_count": null,
   "metadata": {},
   "outputs": [],
   "source": [
    "df.iloc[:,3:5]    # = df[['D','E']]  all rows columns 3 and 4"
   ]
  },
  {
   "cell_type": "code",
   "execution_count": null,
   "metadata": {},
   "outputs": [],
   "source": [
    "df.iloc[1:3,3:5] = [[4, 'nan'],['NaN', 89]]    # change values in df\n",
    "df"
   ]
  },
  {
   "cell_type": "code",
   "execution_count": null,
   "metadata": {},
   "outputs": [],
   "source": [
    "df['names'] = ['row0', 'row1', 'row2', 'row3', 'row4']    # add column 'names'"
   ]
  },
  {
   "cell_type": "code",
   "execution_count": null,
   "metadata": {},
   "outputs": [],
   "source": [
    "df"
   ]
  },
  {
   "cell_type": "code",
   "execution_count": null,
   "metadata": {},
   "outputs": [],
   "source": [
    "df = df.set_index('names')    # set column 'names' as df's index\n",
    "df"
   ]
  },
  {
   "cell_type": "code",
   "execution_count": null,
   "metadata": {},
   "outputs": [],
   "source": [
    "df.loc[\"row2\"]    # df.loc[] not df.iloc[], for usage with labels, can add column label too"
   ]
  },
  {
   "cell_type": "code",
   "execution_count": null,
   "metadata": {},
   "outputs": [],
   "source": [
    "df.to_csv(\"test2\")    # create a csv file with df values in the same notebook directory "
   ]
  },
  {
   "cell_type": "code",
   "execution_count": null,
   "metadata": {},
   "outputs": [],
   "source": [
    "df = pd.read_csv(\"test2\", index_col='names')     #index_col to specify index, check function's documentation for other useful input arguments"
   ]
  },
  {
   "cell_type": "code",
   "execution_count": null,
   "metadata": {},
   "outputs": [],
   "source": [
    "df"
   ]
  },
  {
   "cell_type": "markdown",
   "metadata": {},
   "source": [
    "**Exercise 7**\n",
    "\n",
    "Import \"Grades.csv\" assign column ID as the index of your DataFrame. \n",
    "1. Assign the data for student with ID 6104062 to a variable `student`.\n",
    "2. Print the data type of `student`.\n",
    "3. Print the name of `student`.\n",
    "4. Change the 'Mathematics' and 'English' grades to 38 and 39 for student 6104065, and 45 and 43 for student 6104067.\n",
    "5. For all students:\n",
    "    -  Print all the data excluding the 'Name' column.\n",
    "    -  Add column `Total [%]`. The values in `Total [%]` are equal to the overall grade percentage (assuming each subject is 50 marks)."
   ]
  },
  {
   "cell_type": "code",
   "execution_count": null,
   "metadata": {},
   "outputs": [],
   "source": []
  },
  {
   "cell_type": "markdown",
   "metadata": {},
   "source": [
    "**Arithmetic Operations**"
   ]
  },
  {
   "cell_type": "code",
   "execution_count": null,
   "metadata": {},
   "outputs": [],
   "source": [
    "maxGrade = grades['Total [%]'].max() # same for mean, min, count, sum, std, ..\n",
    "maxGrade"
   ]
  },
  {
   "cell_type": "markdown",
   "metadata": {},
   "source": [
    "**Conditional statements**"
   ]
  },
  {
   "cell_type": "code",
   "execution_count": null,
   "metadata": {},
   "outputs": [],
   "source": [
    "grades.loc[grades['Total [%]'] <= 75]   # also can be done specifying a row and a column > add \", 'Class'\""
   ]
  },
  {
   "cell_type": "code",
   "execution_count": null,
   "metadata": {},
   "outputs": [],
   "source": [
    "grades[grades['Total [%]'] >= 85]"
   ]
  },
  {
   "cell_type": "code",
   "execution_count": null,
   "metadata": {},
   "outputs": [],
   "source": [
    "grades[(grades['Total [%]'] < 85) & (grades['Total [%]'] > 75)]    # for or use |"
   ]
  },
  {
   "cell_type": "markdown",
   "metadata": {},
   "source": [
    "**Exercise 8**\n",
    "\n",
    "- Print students who scored less than 30 marks in any of the subjects.\n",
    "- Print the highest score for each subject.\n",
    "- Print the students with the highest subject grade."
   ]
  },
  {
   "cell_type": "code",
   "execution_count": null,
   "metadata": {},
   "outputs": [],
   "source": []
  },
  {
   "cell_type": "markdown",
   "metadata": {},
   "source": [
    "**Grouping**"
   ]
  },
  {
   "cell_type": "code",
   "execution_count": null,
   "metadata": {},
   "outputs": [],
   "source": [
    "grouped = grades.groupby('Class')    # create groups from the dataframe grades, based on the 'Class' column"
   ]
  },
  {
   "cell_type": "code",
   "execution_count": null,
   "metadata": {},
   "outputs": [],
   "source": [
    "grouped"
   ]
  },
  {
   "cell_type": "code",
   "execution_count": null,
   "metadata": {},
   "outputs": [],
   "source": [
    "grouped[\"Total [%]\"].max()"
   ]
  },
  {
   "cell_type": "code",
   "execution_count": null,
   "metadata": {},
   "outputs": [],
   "source": [
    "ClassA = grouped.get_group(\"A\")    # assign Class A students to variable (DataFrame) Class A\n",
    "ClassA"
   ]
  },
  {
   "cell_type": "code",
   "execution_count": null,
   "metadata": {},
   "outputs": [],
   "source": [
    "type(ClassA)    # Class A is now a separate DataFrame"
   ]
  },
  {
   "cell_type": "markdown",
   "metadata": {},
   "source": [
    "**Exercise 9**\n",
    "\n",
    "Create a bar chart for each class in one figure. The chart shall contain grades of the three subjects and total percentage for each student. Search Google, different plotting methods are acceptable."
   ]
  },
  {
   "cell_type": "code",
   "execution_count": null,
   "metadata": {},
   "outputs": [],
   "source": [
    "fig, axes = plt.subplots(figsize=(18,8),nrows=1, ncols=2)\n",
    "ClassA.plot(ax=axes[0], kind='bar', rot=0, title = 'Class A')\n",
    "ClassB.plot(ax=axes[1], kind='bar', rot=0, title = 'Class B')\n",
    "axes[0].legend(loc='best')\n",
    "axes[1].legend(loc='best')"
   ]
  },
  {
   "cell_type": "code",
   "execution_count": null,
   "metadata": {},
   "outputs": [],
   "source": []
  }
 ],
 "metadata": {
  "colab": {
   "collapsed_sections": [],
   "name": "Untitled1.ipynb",
   "provenance": []
  },
  "kernelspec": {
   "display_name": "Python 3 (ipykernel)",
   "language": "python",
   "name": "python3"
  },
  "language_info": {
   "codemirror_mode": {
    "name": "ipython",
    "version": 3
   },
   "file_extension": ".py",
   "mimetype": "text/x-python",
   "name": "python",
   "nbconvert_exporter": "python",
   "pygments_lexer": "ipython3",
   "version": "3.8.11"
  }
 },
 "nbformat": 4,
 "nbformat_minor": 4
}
